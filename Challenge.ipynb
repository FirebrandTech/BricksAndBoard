{
 "cells": [
  {
   "cell_type": "markdown",
   "id": "ccac9ce9-5356-42a2-8a18-462d02a69faa",
   "metadata": {},
   "source": [
    "# Bricks and Board Code Challenge\n",
    "\n",
    "## The Problem\n",
    "\n",
    "I am in an open field with an endless supply of bricks. My hobby is stacking bricks up in equally-spaced columns of random heights.\n",
    "\n",
    "I choose the number of columns randomly. It could be 10, or 27, or 63,972,152. I'm a patient guy and I like columns of bricks.\n",
    "\n",
    "Each time, when I'm done, I lay a wooden board on top of the columns of bricks. I have access to a huge variety of board lengths, so I always choose one that starts exactly above the top of the first column, and stretches to exactly above the top of the last column, regardless of its angle.\n",
    "\n",
    "It doesn't always touch the tops of those columns, of course. I chose the column heights randomly. Maybe on some occasions it rests on those, but in other cases it comes to rest on bricks anywhere in between them. It all depends on the height of the columns and where gravity dictates the board will sit. But in any case, these bricks are rough enough that the board never slides off, even at severe slopes.\n",
    "\n",
    "Your job is to figure out, given the number of bricks in each column, the slope and y-intercept of my board.\n",
    "\n",
    "Columns of bricks are provided in an array, where the array index is \"x\" and the value is \"y\".\n",
    "\n",
    "## Forget The High School Line Formula Stuff?\n",
    "\n",
    "Me too. Here's a quick refresher:\n",
    "\n",
    "A straight line is defined by the formula y = mx + b:\n",
    "\n",
    "* **x:** the column number, starting from 0\n",
    "* **y:** the height of the board, in bricks, at that column\n",
    "* **m:** the slope of the board, or \"rise over run\": take two points the board is touching, x1,y1 and x2,y2, and the slope is (y2 - y1) / (x2 - x1).\n",
    "* **b:** y-intercept: how high the board is from the ground, in bricks, at column 0\n",
    "\n",
    "> _Important Note:_ For simplicity, let's ignore the fact that any angled board will have a slightly varying height over the width of a stack of bricks. The board's height (y) when it's touching a brick is equal to the number of bricks beneath it.\n",
    "\n",
    "## Here's an example\n",
    "\n",
    "`[2, 14, 8, 94, 300, 210, 200, 99, 14, 12]`\n",
    "\n",
    "Laying a board on top of this, it comes to rest on x=4 y=300, and x=6 y=200. (\"Not 300 and 210?!\" Some of you are thinking? Nope, if it rested on 210, the slope would be too severe that it would fall BELOW the top of the 200 stack. For real, check the math. This problem isn't as simple as it sounds.)\n",
    "\n",
    "Slope is rise `(y2 - y1)` divided by run `(x2 - x1)`. So: `(200 - 300) / (6 - 4) = -50`.\n",
    "\n",
    "y-intercept can then be found by plugging the slope into the y=mx+b line equation for either of those resting points above. I'll pick x=6 y=200:\n",
    "\n",
    "```\n",
    "200 = -50 * 6 + b\n",
    "200 = -300 + b\n",
    "b = 200 - -300\n",
    "b = 500\n",
    "```\n",
    "\n",
    "So with those stacks, slope is **-50** and y-intercept is **500**.\n",
    "\n",
    "Write me a function that outputs those two variables given any input array. No gravity-defying boards!"
   ]
  },
  {
   "cell_type": "markdown",
   "id": "92f11e64-79b7-47cc-81b5-b207a44c94f3",
   "metadata": {},
   "source": [
    "## We'll start with some boilerplate code to generate data and charts\n",
    "\n",
    "No need to edit this, but we'll use it later."
   ]
  },
  {
   "cell_type": "code",
   "execution_count": null,
   "id": "86a1be11-d943-4a6c-936e-d15d9fa86de0",
   "metadata": {},
   "outputs": [],
   "source": [
    "import numpy as np\n",
    "import matplotlib.pyplot as plt\n",
    "import json\n",
    "\n",
    "# Function to generate an array of random integers\n",
    "def generate_random_array(data_length):\n",
    "    return np.random.randint(0, 100, data_length)\n",
    "\n",
    "# Function to plot the data and the line\n",
    "def plot_data_with_line(arr, slope, y_intercept):\n",
    "    x = np.arange(len(arr))\n",
    "    y = arr\n",
    "    \n",
    "    plt.scatter(x, y, color='red', label='Brick Column Tops')\n",
    "    plt.plot(x, slope * x + y_intercept, color='blue', label='Board')\n",
    "    \n",
    "    plt.xlabel('Brick Column')\n",
    "    plt.ylabel('Brick Height')\n",
    "    plt.title('Brick Tops and Board')\n",
    "    plt.show()"
   ]
  },
  {
   "cell_type": "markdown",
   "id": "80d9683e-23e5-488d-8ee2-2e9a9d64c10c",
   "metadata": {},
   "source": [
    "## Now it's your turn!\n",
    "\n",
    "In the following function, write your solution. Not familiar with Python? No problem! Click CodeWhisperer -> Start CodeWhisperer:\n",
    "\n",
    "![Start CodeWhiperer](http://i.tomfro.st/7Epnpy.png)\n",
    "\n",
    "You can create a free Amazon Q sign-in if you don't have one. Click again, and you can see the shortcuts. I recommend clicking \"Resume Auto-Suggestions\":\n",
    "\n",
    "![Resume Auto-Suggestions](http://i.tomfro.st/ZziCkh.png)\n",
    "\n",
    "Ready Go:"
   ]
  },
  {
   "cell_type": "code",
   "execution_count": null,
   "id": "7344df2a-01e2-4e1b-8a6e-d68dbbf7a1c7",
   "metadata": {},
   "outputs": [],
   "source": [
    "# Function to calculate the slope and y-intercept\n",
    "def calculate_slope_intercept(arr):\n",
    "    if len(arr) < 2:\n",
    "        raise ValueError(\"Array must have at least two elements\")\n",
    "\n",
    "    # Right now, this draws a line through the highest two values in the set. That fails in MANY cases!\n",
    "    sorted_indices = np.argsort(arr)[-2:]  # Get indices of the two highest values\n",
    "    x1, x2 = sorted(sorted_indices)\n",
    "    y1, y2 = arr[x1], arr[x2]\n",
    "    \n",
    "    slope = (y2 - y1) / (x2 - x1)\n",
    "    y_intercept = y1 - slope * x1\n",
    "    \n",
    "    return slope, y_intercept"
   ]
  },
  {
   "cell_type": "markdown",
   "id": "906d99bd-c02c-4c4f-9211-63d4578bf221",
   "metadata": {},
   "source": [
    "## Run it and see how it does!\n",
    "\n",
    "The first time you run this code, hit the \"Run all cells\" button to initialize the boilerplate code:\n",
    "\n",
    "![Run All Cells](http://i.tomfro.st/adTxxK.png)\n",
    "\n",
    "After that, you can just click into the code block below and press the play button to see your code run on new random data:\n",
    "\n",
    "![Play Button](http://i.tomfro.st/Y5dYGc.png)\n",
    "\n",
    "If you change your code, remember that you'll need to re-run that cell or use the \"Run all cells\" button again!"
   ]
  },
  {
   "cell_type": "code",
   "execution_count": null,
   "id": "d027035e-bb08-4b75-bf8b-b21166596ffd",
   "metadata": {},
   "outputs": [],
   "source": [
    "# Calling the functions to visualize the output\n",
    "data_length = 30\n",
    "random_array = generate_random_array(data_length)\n",
    "slope, y_intercept = calculate_slope_intercept(random_array)\n",
    "plot_data_with_line(random_array, slope, y_intercept)\n",
    "print(\"Data:\", json.dumps(random_array.tolist()))\n",
    "print(\"Slope:\", slope)\n",
    "print(\"Y-Intercept:\", y_intercept)"
   ]
  },
  {
   "cell_type": "markdown",
   "id": "3e38c168-aa8f-451d-adfe-e5a0eb6382cb",
   "metadata": {},
   "source": [
    "## Test it\n",
    "\n",
    "Run the following code block to test your solution's accuracy. We'll run it 1000 times and check to make sure all the dots are on or under the line, and the line isn't defying gravity."
   ]
  },
  {
   "cell_type": "code",
   "execution_count": null,
   "id": "22c475cd-167f-4d0f-bb03-ed854330af4c",
   "metadata": {},
   "outputs": [],
   "source": [
    "def print_fail(num, arr, slope, y_intercept, err):\n",
    "    print(f\"Test {num + 1} failed!\")\n",
    "    print(err)\n",
    "    plot_data_with_line(arr, slope, y_intercept)\n",
    "    print(\"Data:\", json.dumps(arr.tolist()))\n",
    "    print(\"Slope:\", slope)\n",
    "    print(\"Y-Intercept:\", y_intercept)\n",
    "\n",
    "errored = False\n",
    "error_margin = 0.0000000000001\n",
    "for i in range(0, 1000):\n",
    "    arr = generate_random_array(30)\n",
    "    slope, y_intercept = calculate_slope_intercept(arr)\n",
    "    left_touch = False\n",
    "    right_touch = False\n",
    "    # Make sure all the points in arr are on or beneath the line\n",
    "    for x, y in enumerate(arr):\n",
    "        if y > slope * x + y_intercept + error_margin:\n",
    "            print_fail(i, arr, slope, y_intercept, f\"Point ({x},{y}) is above the line\")\n",
    "            errored = True\n",
    "            break\n",
    "        # Set touch to True if we find a point on the line\n",
    "        if y > slope * x + y_intercept - error_margin:\n",
    "            if x < len(arr) / 2:\n",
    "                left_touch = True\n",
    "            else:\n",
    "                right_touch = True\n",
    "    if not errored and not (left_touch and right_touch):\n",
    "        print_fail(i, arr, slope, y_intercept, \"The board is defying gravity!\")\n",
    "        errored = True\n",
    "    if errored: break\n",
    "\n",
    "if not errored: print(\"All tests passed!\")"
   ]
  }
 ],
 "metadata": {
  "kernelspec": {
   "display_name": "Python 3 (ipykernel)",
   "language": "python",
   "name": "python3"
  },
  "language_info": {
   "codemirror_mode": {
    "name": "ipython",
    "version": 3
   },
   "file_extension": ".py",
   "mimetype": "text/x-python",
   "name": "python",
   "nbconvert_exporter": "python",
   "pygments_lexer": "ipython3",
   "version": "3.11.6"
  }
 },
 "nbformat": 4,
 "nbformat_minor": 5
}
